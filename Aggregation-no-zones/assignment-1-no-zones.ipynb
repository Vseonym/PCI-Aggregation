{
 "cells": [
  {
   "cell_type": "code",
   "execution_count": 1,
   "id": "dff37319",
   "metadata": {},
   "outputs": [
    {
     "name": "stdout",
     "output_type": "stream",
     "text": [
      "pygame 2.6.1 (SDL 2.28.4, Python 3.12.3)\n",
      "Hello from the pygame community. https://www.pygame.org/contribute.html\n"
     ]
    }
   ],
   "source": [
    "from dataclasses import dataclass, field\n",
    "from vi import Agent, Config, Simulation, Vector2\n",
    "import pygame as pg\n",
    "import os\n",
    "import numpy as np\n",
    "import random"
   ]
  },
  {
   "cell_type": "code",
   "execution_count": 2,
   "id": "0d6d687a",
   "metadata": {},
   "outputs": [],
   "source": [
    "frame_dir = \"frames\"\n",
    "os.makedirs(frame_dir, exist_ok=True)\n",
    "frame_count = 0\n",
    "\n",
    "def save_frame(screen):\n",
    "    global frame_count\n",
    "    pg.image.save(screen, os.path.join(frame_dir, f\"frame_{frame_count:05d}.png\"))\n",
    "    frame_count += 1"
   ]
  },
  {
   "cell_type": "code",
   "execution_count": 6,
   "id": "59c2e8be",
   "metadata": {},
   "outputs": [],
   "source": [
    "class RecordingSimulation(Simulation):\n",
    "    def __init__(self, config):\n",
    "        super().__init__(config)\n",
    "        self.frame_count = 0\n",
    "        os.makedirs(\"frames\", exist_ok=True)\n",
    "\n",
    "    def after_update(self) -> None:\n",
    "        # Draw everything to the screen\n",
    "        self._all.draw(self._screen)\n",
    "\n",
    "        if self.config.visualise_chunks:\n",
    "            self.__visualise_chunks()\n",
    "\n",
    "        # Save current frame as an image\n",
    "        # pg.image.save(self._screen, f\"frames/frame_{self.frame_count:05d}.png\")\n",
    "\n",
    "        # Update the screen with the new image\n",
    "        pg.display.flip()\n",
    "\n",
    "        self._clock.tick(self.config.fps_limit)\n",
    "\n",
    "        current_fps = self._clock.get_fps()\n",
    "        if current_fps > 0:\n",
    "            self._metrics.fps._push(current_fps)\n",
    "\n",
    "            if self.config.print_fps:\n",
    "                print(f\"FPS: {current_fps:.1f}\")  # noqa: T201\n",
    "\n",
    "        # Increment a frame counter (you may need to initialize it somewhere)\n",
    "        self.frame_count += 1\n",
    "\n",
    "        #update pheromone grid\n",
    "        self.config.pheromone_grid_decay()\n"
   ]
  },
  {
   "cell_type": "code",
   "execution_count": 14,
   "id": "301c61e3",
   "metadata": {},
   "outputs": [
    {
     "ename": "KeyboardInterrupt",
     "evalue": "",
     "output_type": "error",
     "traceback": [
      "\u001b[31m---------------------------------------------------------------------------\u001b[39m",
      "\u001b[31mKeyboardInterrupt\u001b[39m                         Traceback (most recent call last)",
      "\u001b[36mCell\u001b[39m\u001b[36m \u001b[39m\u001b[32mIn[14]\u001b[39m\u001b[32m, line 75\u001b[39m\n\u001b[32m     67\u001b[39m         \u001b[38;5;28mself\u001b[39m.there_is_no_escape()\n\u001b[32m     68\u001b[39m         \u001b[38;5;28mself\u001b[39m.pos += \u001b[38;5;28mself\u001b[39m.move\n\u001b[32m     70\u001b[39m (\n\u001b[32m     71\u001b[39m     \u001b[43mRecordingSimulation\u001b[49m\u001b[43m(\u001b[49m\n\u001b[32m     72\u001b[39m \u001b[43m        \u001b[49m\u001b[43mAggregationConfig\u001b[49m\u001b[43m(\u001b[49m\u001b[43mimage_rotation\u001b[49m\u001b[43m \u001b[49m\u001b[43m=\u001b[49m\u001b[43m \u001b[49m\u001b[38;5;28;43;01mTrue\u001b[39;49;00m\u001b[43m,\u001b[49m\u001b[43m \u001b[49m\u001b[43mmovement_speed\u001b[49m\u001b[43m \u001b[49m\u001b[43m=\u001b[49m\u001b[43m \u001b[49m\u001b[32;43m5.0\u001b[39;49m\u001b[43m,\u001b[49m\u001b[43m \u001b[49m\u001b[43mradius\u001b[49m\u001b[43m \u001b[49m\u001b[43m=\u001b[49m\u001b[43m \u001b[49m\u001b[32;43m25\u001b[39;49m\u001b[43m,\u001b[49m\u001b[43m \u001b[49m\u001b[43mseed\u001b[49m\u001b[43m \u001b[49m\u001b[43m=\u001b[49m\u001b[43m \u001b[49m\u001b[32;43m777\u001b[39;49m\u001b[43m,\u001b[49m\u001b[43m \u001b[49m\u001b[43mduration\u001b[49m\u001b[43m \u001b[49m\u001b[43m=\u001b[49m\u001b[43m \u001b[49m\u001b[32;43m10000\u001b[39;49m\u001b[43m,\u001b[49m\u001b[43m \u001b[49m\u001b[43mfps_limit\u001b[49m\u001b[43m \u001b[49m\u001b[43m=\u001b[49m\u001b[43m \u001b[49m\u001b[32;43m30\u001b[39;49m\u001b[43m)\u001b[49m\n\u001b[32m     73\u001b[39m \u001b[43m    \u001b[49m\u001b[43m)\u001b[49m\n\u001b[32m     74\u001b[39m \u001b[43m    \u001b[49m\u001b[43m.\u001b[49m\u001b[43mbatch_spawn_agents\u001b[49m\u001b[43m(\u001b[49m\u001b[32;43m100\u001b[39;49m\u001b[43m,\u001b[49m\u001b[43m \u001b[49m\u001b[43mFlockingAgent\u001b[49m\u001b[43m,\u001b[49m\u001b[43m \u001b[49m\u001b[43mimages\u001b[49m\u001b[43m=\u001b[49m\u001b[43m[\u001b[49m\u001b[33;43m\"\u001b[39;49m\u001b[33;43mimages/tarakan.png\u001b[39;49m\u001b[33;43m\"\u001b[39;49m\u001b[43m]\u001b[49m\u001b[43m)\u001b[49m\n\u001b[32m---> \u001b[39m\u001b[32m75\u001b[39m \u001b[43m    \u001b[49m\u001b[43m.\u001b[49m\u001b[43mrun\u001b[49m\u001b[43m(\u001b[49m\u001b[43m)\u001b[49m\n\u001b[32m     76\u001b[39m )\n",
      "\u001b[36mFile \u001b[39m\u001b[32mc:\\Users\\georg\\anaconda3\\envs\\main\\Lib\\site-packages\\vi\\simulation.py:311\u001b[39m, in \u001b[36mHeadlessSimulation.run\u001b[39m\u001b[34m(self)\u001b[39m\n\u001b[32m    308\u001b[39m \u001b[38;5;28mself\u001b[39m._running = \u001b[38;5;28;01mTrue\u001b[39;00m\n\u001b[32m    310\u001b[39m \u001b[38;5;28;01mwhile\u001b[39;00m \u001b[38;5;28mself\u001b[39m._running:\n\u001b[32m--> \u001b[39m\u001b[32m311\u001b[39m     \u001b[38;5;28;43mself\u001b[39;49m\u001b[43m.\u001b[49m\u001b[43mtick\u001b[49m\u001b[43m(\u001b[49m\u001b[43m)\u001b[49m\n\u001b[32m    313\u001b[39m \u001b[38;5;28;01mreturn\u001b[39;00m \u001b[38;5;28mself\u001b[39m._metrics\n",
      "\u001b[36mFile \u001b[39m\u001b[32mc:\\Users\\georg\\anaconda3\\envs\\main\\Lib\\site-packages\\vi\\simulation.py:353\u001b[39m, in \u001b[36mHeadlessSimulation.tick\u001b[39m\u001b[34m(self)\u001b[39m\n\u001b[32m    350\u001b[39m \u001b[38;5;66;03m# Merge the collected snapshots into the dataframe.\u001b[39;00m\n\u001b[32m    351\u001b[39m \u001b[38;5;28mself\u001b[39m._metrics._merge()\n\u001b[32m--> \u001b[39m\u001b[32m353\u001b[39m \u001b[38;5;28;43mself\u001b[39;49m\u001b[43m.\u001b[49m\u001b[43mafter_update\u001b[49m\u001b[43m(\u001b[49m\u001b[43m)\u001b[49m\n\u001b[32m    355\u001b[39m \u001b[38;5;66;03m# If we've reached the duration of the simulation, then stop the simulation.\u001b[39;00m\n\u001b[32m    356\u001b[39m \u001b[38;5;28;01mif\u001b[39;00m \u001b[38;5;28mself\u001b[39m.config.duration > \u001b[32m0\u001b[39m \u001b[38;5;129;01mand\u001b[39;00m \u001b[38;5;28mself\u001b[39m.shared.counter == \u001b[38;5;28mself\u001b[39m.config.duration:\n",
      "\u001b[36mCell\u001b[39m\u001b[36m \u001b[39m\u001b[32mIn[6]\u001b[39m\u001b[32m, line 20\u001b[39m, in \u001b[36mRecordingSimulation.after_update\u001b[39m\u001b[34m(self)\u001b[39m\n\u001b[32m     14\u001b[39m \u001b[38;5;66;03m# Save current frame as an image\u001b[39;00m\n\u001b[32m     15\u001b[39m \u001b[38;5;66;03m# pg.image.save(self._screen, f\"frames/frame_{self.frame_count:05d}.png\")\u001b[39;00m\n\u001b[32m     16\u001b[39m \n\u001b[32m     17\u001b[39m \u001b[38;5;66;03m# Update the screen with the new image\u001b[39;00m\n\u001b[32m     18\u001b[39m pg.display.flip()\n\u001b[32m---> \u001b[39m\u001b[32m20\u001b[39m \u001b[38;5;28;43mself\u001b[39;49m\u001b[43m.\u001b[49m\u001b[43m_clock\u001b[49m\u001b[43m.\u001b[49m\u001b[43mtick\u001b[49m\u001b[43m(\u001b[49m\u001b[38;5;28;43mself\u001b[39;49m\u001b[43m.\u001b[49m\u001b[43mconfig\u001b[49m\u001b[43m.\u001b[49m\u001b[43mfps_limit\u001b[49m\u001b[43m)\u001b[49m\n\u001b[32m     22\u001b[39m current_fps = \u001b[38;5;28mself\u001b[39m._clock.get_fps()\n\u001b[32m     23\u001b[39m \u001b[38;5;28;01mif\u001b[39;00m current_fps > \u001b[32m0\u001b[39m:\n",
      "\u001b[31mKeyboardInterrupt\u001b[39m: "
     ]
    }
   ],
   "source": [
    "@dataclass\n",
    "class AggregationConfig(Config):\n",
    "    pheromone_decay: float = 0.01\n",
    "    cell_size: int = 50\n",
    "    pheromone_grid: np.ndarray = field(default_factory=lambda: np.zeros((15, 15)))\n",
    "    attraction_strength: float = 0.5\n",
    "    random_movement: float = 0.05  \n",
    "    stopping_threshold: float = 10\n",
    "\n",
    "    def update_pheromone_grid(self, x, y):\n",
    "        \"\"\"Update pheromone grid at the agent's position\"\"\"\n",
    "        grid_x = int(x // self.cell_size)\n",
    "        grid_y = int(y // self.cell_size)\n",
    "        if 0 <= grid_x < len(self.pheromone_grid) and 0 <= grid_y < len(self.pheromone_grid[0]):\n",
    "            self.pheromone_grid[grid_x][grid_y] += 0.01\n",
    "    \n",
    "    def pheromone_grid_decay(self):\n",
    "        \"\"\"Decay pheromone levels in the grid\"\"\"\n",
    "        self.pheromone_grid = np.where(self.pheromone_grid < 0.001, 0, self.pheromone_grid - self.pheromone_decay)\n",
    "    \n",
    "    def get_pheromone_gradient(self, x, y):\n",
    "        grid_x = int(x // self.cell_size)\n",
    "        grid_y = int(y // self.cell_size)\n",
    "        \n",
    "        neighbors = []\n",
    "        for dx in [-1, 0, 1]:\n",
    "            for dy in [-1, 0, 1]:\n",
    "                nx, ny = grid_x + dx, grid_y + dy\n",
    "                if 0 <= nx < self.pheromone_grid.shape[0] and 0 <= ny < self.pheromone_grid.shape[1]:\n",
    "                    neighbors.append((dx, dy, self.pheromone_grid[nx, ny]))\n",
    "        \n",
    "        if not neighbors:\n",
    "            return Vector2(0, 0)  #return Vector2 instead of numpy array\n",
    "        \n",
    "        max_dx, max_dy, max_val = max(neighbors, key=lambda x: x[2])\n",
    "        return Vector2(max_dx, max_dy) * max_val\n",
    "\n",
    "class FlockingAgent(Agent):\n",
    "    def on_spawn(self):\n",
    "        self.stopped = False\n",
    "        return super().on_spawn()\n",
    "    \n",
    "    def change_position(self):\n",
    "        self.there_is_no_escape()\n",
    "            \n",
    "        current_grid_x = int(self.pos[0] // self.config.cell_size)\n",
    "        current_grid_y = int(self.pos[1] // self.config.cell_size)\n",
    "        \n",
    "        if (0 <= current_grid_x < self.config.pheromone_grid.shape[0] and \n",
    "            0 <= current_grid_y < self.config.pheromone_grid.shape[1]):\n",
    "            if self.config.pheromone_grid[current_grid_x, current_grid_y] > self.config.stopping_threshold:\n",
    "                self.stopped = True\n",
    "                return\n",
    "        \n",
    "        self.config.update_pheromone_grid(self.pos[0], self.pos[1])\n",
    "        \n",
    "        gradient = self.config.get_pheromone_gradient(self.pos[0], self.pos[1])\n",
    "        random_dir = Vector2(random.uniform(-1, 1), random.uniform(-1, 1))\n",
    "        \n",
    "        new_direction = (gradient * self.config.attraction_strength + \n",
    "                        random_dir * self.config.random_movement)\n",
    "        \n",
    "        if new_direction.length() > 0:\n",
    "            new_direction = new_direction.normalize()\n",
    "        \n",
    "        self.move = new_direction * self.config.movement_speed\n",
    "        self.there_is_no_escape()\n",
    "        self.pos += self.move\n",
    "\n",
    "(\n",
    "    RecordingSimulation(\n",
    "        AggregationConfig(image_rotation = True, movement_speed = 5.0, radius = 25, seed = 777, duration = 10000, fps_limit = 30)\n",
    "    )\n",
    "    .batch_spawn_agents(100, FlockingAgent, images=[\"images/tarakan.png\"])\n",
    "    .run()\n",
    ")"
   ]
  }
 ],
 "metadata": {
  "kernelspec": {
   "display_name": "main",
   "language": "python",
   "name": "python3"
  },
  "language_info": {
   "codemirror_mode": {
    "name": "ipython",
    "version": 3
   },
   "file_extension": ".py",
   "mimetype": "text/x-python",
   "name": "python",
   "nbconvert_exporter": "python",
   "pygments_lexer": "ipython3",
   "version": "3.12.3"
  }
 },
 "nbformat": 4,
 "nbformat_minor": 5
}
